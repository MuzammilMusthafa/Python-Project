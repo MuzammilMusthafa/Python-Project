{
 "cells": [
  {
   "cell_type": "code",
   "execution_count": 20,
   "id": "c913ff02-f532-45fa-b653-a25e7a451761",
   "metadata": {},
   "outputs": [
    {
     "name": "stdout",
     "output_type": "stream",
     "text": [
      "Count of Words in the given Sentence: 6\n",
      "6\n"
     ]
    },
    {
     "name": "stdin",
     "output_type": "stream",
     "text": [
      "Enter Input: 1\n"
     ]
    },
    {
     "name": "stdout",
     "output_type": "stream",
     "text": [
      "1\n"
     ]
    }
   ],
   "source": [
    "# Quick Two Line Codes\n",
    "countOfWords = len(\"Geeksforgeeks is best Computer Science Portal\".split())\n",
    "print(\"Count of Words in the given Sentence:\", countOfWords)\n",
    "\n",
    "# Quick One Line Codes\n",
    "print(len(\"Geeksforgeeks is best Computer Science Portal\".split()))\n",
    "\n",
    "# Quick One Line Code with User Input\n",
    "print(len(input(\"Enter Input:\").split()))\n"
   ]
  },
  {
   "cell_type": "code",
   "execution_count": 21,
   "id": "d0dea4b7-c709-4e8f-a05e-b3525bc57c3e",
   "metadata": {},
   "outputs": [
    {
     "name": "stdout",
     "output_type": "stream",
     "text": [
      "The original string is : Geeksforgeeks is best Computer Science Portal\n",
      "The number of words in string are : 6\n"
     ]
    }
   ],
   "source": [
    "# Python3 code to demonstrate \n",
    "# to count words in string \n",
    "# using split()\n",
    "\n",
    "# initializing string \n",
    "test_string = \"Geeksforgeeks is best Computer Science Portal\"\n",
    "\n",
    "# printing original string\n",
    "print (\"The original string is : \" + test_string)\n",
    "\n",
    "# using split()\n",
    "# to count words in string\n",
    "res = len(test_string.split())\n",
    "\n",
    "# printing result\n",
    "print (\"The number of words in string are : \" + str(res))\n"
   ]
  },
  {
   "cell_type": "code",
   "execution_count": 22,
   "id": "586b9f51-2669-4b34-86bd-74cf6d37405b",
   "metadata": {},
   "outputs": [
    {
     "name": "stdout",
     "output_type": "stream",
     "text": [
      "The original string is : Geeksforgeeks, is best @# Computer Science Portal.!!!\n",
      "The number of words in string are : 6\n"
     ]
    }
   ],
   "source": [
    "# Python3 code to demonstrate \n",
    "# to count words in string \n",
    "# using regex (findall())\n",
    "import re\n",
    "\n",
    "# initializing string \n",
    "test_string = \"Geeksforgeeks, is best @# Computer Science Portal.!!!\"\n",
    "\n",
    "# printing original string\n",
    "print (\"The original string is : \" + test_string)\n",
    "\n",
    "# using regex (findall())\n",
    "# to count words in string\n",
    "res = len(re.findall(r'\\w+', test_string))\n",
    "\n",
    "# printing result\n",
    "print (\"The number of words in string are : \" + str(res))\n"
   ]
  },
  {
   "cell_type": "code",
   "execution_count": 23,
   "id": "8d7c9f16-d3e4-476e-afec-a885996fbc5a",
   "metadata": {},
   "outputs": [
    {
     "name": "stdout",
     "output_type": "stream",
     "text": [
      "The original string is : Geeksforgeeks, is best @# Computer Science Portal.!!!\n",
      "The number of words in string are : 6\n"
     ]
    }
   ],
   "source": [
    "# Python3 code to demonstrate \n",
    "# to count words in string \n",
    "# using sum() + strip() + split()\n",
    "import string\n",
    "\n",
    "# initializing string \n",
    "test_string = \"Geeksforgeeks, is best @# Computer Science Portal.!!!\"\n",
    "\n",
    "# printing original string\n",
    "print (\"The original string is : \" + test_string)\n",
    "\n",
    "# using sum() + strip() + split()\n",
    "# to count words in string\n",
    "res = sum([i.strip(string.punctuation).isalpha() for i in test_string.split()])\n",
    "\n",
    "# printing result\n",
    "print (\"The number of words in string are : \" + str(res))\n"
   ]
  },
  {
   "cell_type": "code",
   "execution_count": 24,
   "id": "9cf9ac9e-df48-4974-aab1-1bc4bd1d4b9f",
   "metadata": {},
   "outputs": [
    {
     "name": "stdout",
     "output_type": "stream",
     "text": [
      "The original string is : Geeksforgeeks is best Computer Science Portal\n",
      "The number of words in string are : 6\n"
     ]
    }
   ],
   "source": [
    "# Python3 code to demonstrate\n",
    "# to count words in string\n",
    "\n",
    "# initializing string\n",
    "test_string = \"Geeksforgeeks is best Computer Science Portal\"\n",
    "\n",
    "# printing original string\n",
    "print (\"The original string is : \" + test_string)\n",
    "\n",
    "# to count words in string\n",
    "res = test_string.count(\" \")+1\n",
    "\n",
    "# printing result\n",
    "print (\"The number of words in string are : \" + str(res))\n"
   ]
  },
  {
   "cell_type": "code",
   "execution_count": 25,
   "id": "a077df83-69cc-4e5b-ab5a-b16f2aa4f485",
   "metadata": {},
   "outputs": [
    {
     "name": "stdout",
     "output_type": "stream",
     "text": [
      "6\n"
     ]
    }
   ],
   "source": [
    "import shlex\n",
    "\n",
    "# Initialize a string\n",
    "test_string = \"Geeksforgeeks is best Computer Science Portal\"\n",
    "\n",
    "# Split the string into a list of words using shlex\n",
    "words = shlex.split(test_string)\n",
    "\n",
    "# Count the number of words in the list\n",
    "count = len(words)\n",
    "print(count) # Output: 6\n",
    "#This code is contributed by Edula Vinay Kumar Reddy\n"
   ]
  },
  {
   "cell_type": "code",
   "execution_count": 26,
   "id": "39d32320-50ca-434b-911d-b72b8c294110",
   "metadata": {},
   "outputs": [
    {
     "name": "stdout",
     "output_type": "stream",
     "text": [
      "The original string is : Geeksforgeeks is best Computer Science Portal\n",
      "The number of words in string are : 6\n"
     ]
    }
   ],
   "source": [
    "# Python3 code to demonstrate\n",
    "# to count words in string\n",
    "import operator as op\n",
    "# initializing string\n",
    "test_string = \"Geeksforgeeks is best Computer Science Portal\"\n",
    "\n",
    "# printing original string\n",
    "print(\"The original string is : \" + test_string)\n",
    "\n",
    "# to count words in string\n",
    "res = op.countOf(test_string, \" \")+1\n",
    "\n",
    "# printing result\n",
    "print(\"The number of words in string are : \" + str(res))\n"
   ]
  },
  {
   "cell_type": "code",
   "execution_count": 27,
   "id": "2a59f6b4-f7f3-44f3-971a-4626f75325fc",
   "metadata": {},
   "outputs": [
    {
     "name": "stdout",
     "output_type": "stream",
     "text": [
      "The original string is : Geeksforgeeks is best Computer Science Portal\n",
      "The number of words in string are : 6\n"
     ]
    }
   ],
   "source": [
    "# Python3 code to demonstrate\n",
    "# to count words in string using reduce\n",
    "\n",
    "from functools import reduce\n",
    "\n",
    "# initializing string\n",
    "test_string = \"Geeksforgeeks is best Computer Science Portal\"\n",
    "\n",
    "# printing original string\n",
    "print(\"The original string is : \" + test_string)\n",
    "\n",
    "# to count words in string using reduce\n",
    "res = reduce(lambda x, y: x + 1 if y == ' ' else x, test_string, 1)\n",
    "\n",
    "# printing result\n",
    "print(\"The number of words in string are : \" + str(res))\n",
    "#This code is contributed Vinay Pinjala.\n"
   ]
  },
  {
   "cell_type": "code",
   "execution_count": 28,
   "id": "04f3b91f-dc76-4124-95f1-87368f06aff6",
   "metadata": {},
   "outputs": [
    {
     "name": "stdout",
     "output_type": "stream",
     "text": [
      "The original string is : Geeksforgeeks is best Computer Science Portal\n",
      "The number of words in string are : 6\n"
     ]
    }
   ],
   "source": [
    "import numpy as np\n",
    "\n",
    "# initializing string\n",
    "test_string = \"Geeksforgeeks is best Computer Science Portal\"\n",
    "\n",
    "# printing original string\n",
    "print(\"The original string is : \" + test_string)\n",
    "\n",
    "# using numpy to count words in string\n",
    "res = np.char.count(test_string, ' ') + 1\n",
    "\n",
    "# printing result\n",
    "print(\"The number of words in string are : \" + str(res))\n",
    "\n",
    "# This code is contributed Rayudu.\n"
   ]
  },
  {
   "cell_type": "code",
   "execution_count": null,
   "id": "a7678310-6839-42f1-8e75-64d8df32f62e",
   "metadata": {},
   "outputs": [],
   "source": []
  }
 ],
 "metadata": {
  "kernelspec": {
   "display_name": "Python 3 (ipykernel)",
   "language": "python",
   "name": "python3"
  },
  "language_info": {
   "codemirror_mode": {
    "name": "ipython",
    "version": 3
   },
   "file_extension": ".py",
   "mimetype": "text/x-python",
   "name": "python",
   "nbconvert_exporter": "python",
   "pygments_lexer": "ipython3",
   "version": "3.11.7"
  }
 },
 "nbformat": 4,
 "nbformat_minor": 5
}
